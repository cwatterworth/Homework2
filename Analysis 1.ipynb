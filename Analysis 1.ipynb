{
 "cells": [
  {
   "cell_type": "markdown",
   "id": "9689273d",
   "metadata": {},
   "source": [
    "Chelsea Watterworth-Analysis 1"
   ]
  },
  {
   "cell_type": "markdown",
   "id": "c862ac19",
   "metadata": {},
   "source": [
    "Begin by importing libraries"
   ]
  },
  {
   "cell_type": "code",
   "execution_count": 1207,
   "id": "9836ec25",
   "metadata": {},
   "outputs": [],
   "source": [
    "%matplotlib inline"
   ]
  },
  {
   "cell_type": "code",
   "execution_count": 1208,
   "id": "a56e33e4",
   "metadata": {},
   "outputs": [],
   "source": [
    "from whatif import Model\n",
    "from whatif import get_sim_results_df"
   ]
  },
  {
   "cell_type": "code",
   "execution_count": 1209,
   "id": "09c788f8",
   "metadata": {},
   "outputs": [],
   "source": [
    "import copy\n",
    "\n",
    "import numpy as np\n",
    "import pandas as pd\n",
    "import matplotlib.pyplot as plt\n",
    "from mpl_toolkits.mplot3d import Axes3D\n",
    "import seaborn as sns\n",
    "\n",
    "from whatif import Model\n",
    "from whatif import get_sim_results_df"
   ]
  },
  {
   "cell_type": "markdown",
   "id": "03def1d1",
   "metadata": {},
   "source": [
    "### 1a – Base Model\n",
    "Create a Python based model to that relates profit to the inputs. It must be an object oriented model. "
   ]
  },
  {
   "cell_type": "code",
   "execution_count": 1210,
   "id": "34567db3",
   "metadata": {},
   "outputs": [
    {
     "name": "stdout",
     "output_type": "stream",
     "text": [
      "1668.5\n",
      "20028\n"
     ]
    }
   ],
   "source": [
    "class SingleProductSPF1(Model):\n",
    "    \"\"\"Base\"\"\"\n",
    "    def __init__(self, fixed_cost=5000,var_cost=100,selling_cost=115, spf_constant=4900, spf_linear=-35, spf_quadratic=0.06):\n",
    "        self.var_cost = var_cost\n",
    "        self.selling_price = selling_price\n",
    "        self.fixed_cost = fixed_cost\n",
    "        self.spf_linear = spf_linear\n",
    "        self.spf_constant = spf_constant\n",
    "        self.spf_quadratic = spf_quadratic\n",
    "model_f = SingleProductSPF(var_cost, selling_price, fixed_cost, spf_linear, spf_constant, spf_quadratic)\n",
    "print(model_f.demand())\n",
    "print(model_f.profit())\n"
   ]
  },
  {
   "cell_type": "markdown",
   "id": "57272603",
   "metadata": {},
   "source": [
    "### Markdown cells with code of replication-disregard\n",
    "define a class with given inputs\n",
    "\n",
    "var_cost = 100\n",
    "selling_price = 115\n",
    "fixed_cost = 5000\n",
    "spf_linear = -35\n",
    "spf_constant = 4900\n",
    "spf_quadratic = 0.06\n",
    "\n",
    "class SingleProductSPF():\n",
    "    def __init__(self, var_cost, selling_price, fixed_cost, spf_linear, spf_constant, spf_quadratic):\n",
    "        self.var_cost = var_cost\n",
    "        self.selling_price = selling_price\n",
    "        self.fixed_cost = fixed_cost\n",
    "        self.spf_linear = spf_linear\n",
    "        self.spf_constant = spf_constant\n",
    "        self.spf_quadratic = spf_quadratic\n",
    "#calculate demand        \n",
    "    def demand(self):\n",
    "        \"\"\"Compute demand\"\"\"\n",
    "        return (self.spf_quadratic * (self.selling_price)**2) + self.spf_linear*(self.selling_price) + self.spf_constant\n",
    "#calculate profit\n",
    "    def profit(self):\n",
    "        \"\"\"Compute profit\"\"\"\n",
    "        return round((self.selling_price * self.demand() -(self.fixed_cost + (self.var_cost* self.demand()))))"
   ]
  },
  {
   "cell_type": "markdown",
   "id": "b30548aa",
   "metadata": {},
   "source": [
    " Reset the base inputs\n",
    "var_cost = 100\n",
    "selling_price = 115\n",
    "fixed_cost = 5000\n",
    "spf_linear = -35\n",
    "spf_constant = 4900\n",
    "spf_quadratic = 0.06\n",
    "\n",
    " Create a new BookstoreModel object\n",
    "model_1 = SingleProductSPF(var_cost, selling_price, fixed_cost, spf_linear, spf_constant, spf_quadratic)"
   ]
  },
  {
   "cell_type": "markdown",
   "id": "7fa093f6",
   "metadata": {},
   "source": [
    "#print and test\n",
    "print(model_1.demand())\n",
    "print(model_1.profit())"
   ]
  },
  {
   "cell_type": "markdown",
   "id": "60f6f5ec",
   "metadata": {},
   "source": [
    "It worked!"
   ]
  },
  {
   "cell_type": "markdown",
   "id": "0c65effc",
   "metadata": {},
   "source": [
    "#add update and str to class\n",
    "class SingleProductSPF(Model):\n",
    "    def __init__(self, var_cost=0, selling_price=0, fixed_cost=0, spf_linear=0, spf_constant=0, spf_quadratic=0):\n",
    "        self.var_cost = var_cost\n",
    "        self.selling_price = selling_price\n",
    "        self.fixed_cost = fixed_cost\n",
    "        self.spf_linear = spf_linear\n",
    "        self.spf_constant = spf_constant\n",
    "        self.spf_quadratic = spf_quadratic\n",
    "        \n",
    "    def update(self, param_dict):\n",
    "        \"\"\"\n",
    "        Update parameter values\n",
    "        \"\"\"\n",
    "        for key in param_dict:\n",
    "            setattr(self, key, param_dict[key])\n",
    "    \n",
    "    def demand(self):\n",
    "        \"\"\"Compute demand\"\"\"\n",
    "        return (self.spf_quadratic * (self.selling_price)**2) + self.spf_linear*(self.selling_price) + self.spf_constant\n",
    "    \n",
    "    def profit(self):\n",
    "        \"\"\"Compute profit\"\"\"\n",
    "        return round((self.selling_price * self.demand()) -(self.fixed_cost + (self.var_cost* self.demand())))\n",
    "    \n",
    "    def __str__(self):\n",
    "        \"\"\"\n",
    "        Print dictionary of object attributes but don't include an underscore as first char\n",
    "        \"\"\"\n",
    "        return str(vars(self))\n",
    "        #return str({key: val for (key, val) in vars(self).items() if key[0] != '_'})"
   ]
  },
  {
   "cell_type": "markdown",
   "id": "30cd9012",
   "metadata": {},
   "source": [
    "### 1b – 1-way Data Table and 1d – 2-way Data Table"
   ]
  },
  {
   "cell_type": "code",
   "execution_count": 1211,
   "id": "36964d4a",
   "metadata": {},
   "outputs": [
    {
     "name": "stdout",
     "output_type": "stream",
     "text": [
      "{'var_cost': 100, 'selling_price': 115, 'fixed_cost': 5000, 'spf_linear': -35, 'spf_constant': 4900, 'spf_quadratic': 0.06}\n"
     ]
    }
   ],
   "source": [
    "#reset base\n",
    "base_inputs = {'var_cost': 100,\n",
    "'selling_price': 115,\n",
    "'fixed_cost': 5000,\n",
    "'spf_linear': -35,\n",
    "'spf_constant': 4900,\n",
    "'spf_quadratic': 0.06,\n",
    "}\n",
    "model_2 = SingleProductSPF()\n",
    "model_2.update(base_inputs)\n",
    "print(model_2)"
   ]
  },
  {
   "cell_type": "code",
   "execution_count": 1212,
   "id": "98a5f957",
   "metadata": {},
   "outputs": [],
   "source": [
    "#set param ranges for 1-way and 2-way on selling price 80-140 in qty of 10, and var_cost 85-110 in qty of 5\n",
    "dt_param_ranges = {'selling_price': np.arange(80, 150, 10),\n",
    "                  'var_cost': np.arange(85,120,5)}"
   ]
  },
  {
   "cell_type": "code",
   "execution_count": 1213,
   "id": "354090ad",
   "metadata": {},
   "outputs": [],
   "source": [
    "from sklearn.model_selection._search import ParameterGrid"
   ]
  },
  {
   "cell_type": "code",
   "execution_count": 1214,
   "id": "059fced3",
   "metadata": {},
   "outputs": [],
   "source": [
    "#create dictionary\n",
    "dt_param_ranges = {'selling_price': np.arange(80, 150, 10),\n",
    "                  'var_cost': np.arange(85,120,5)}"
   ]
  },
  {
   "cell_type": "code",
   "execution_count": 1215,
   "id": "ff2dc83f",
   "metadata": {},
   "outputs": [
    {
     "name": "stdout",
     "output_type": "stream",
     "text": [
      "[{'selling_price': 80, 'var_cost': 85}, {'selling_price': 80, 'var_cost': 90}, {'selling_price': 80, 'var_cost': 95}, {'selling_price': 80, 'var_cost': 100}, {'selling_price': 80, 'var_cost': 105}, {'selling_price': 80, 'var_cost': 110}, {'selling_price': 80, 'var_cost': 115}, {'selling_price': 90, 'var_cost': 85}, {'selling_price': 90, 'var_cost': 90}, {'selling_price': 90, 'var_cost': 95}, {'selling_price': 90, 'var_cost': 100}, {'selling_price': 90, 'var_cost': 105}, {'selling_price': 90, 'var_cost': 110}, {'selling_price': 90, 'var_cost': 115}, {'selling_price': 100, 'var_cost': 85}, {'selling_price': 100, 'var_cost': 90}, {'selling_price': 100, 'var_cost': 95}, {'selling_price': 100, 'var_cost': 100}, {'selling_price': 100, 'var_cost': 105}, {'selling_price': 100, 'var_cost': 110}, {'selling_price': 100, 'var_cost': 115}, {'selling_price': 110, 'var_cost': 85}, {'selling_price': 110, 'var_cost': 90}, {'selling_price': 110, 'var_cost': 95}, {'selling_price': 110, 'var_cost': 100}, {'selling_price': 110, 'var_cost': 105}, {'selling_price': 110, 'var_cost': 110}, {'selling_price': 110, 'var_cost': 115}, {'selling_price': 120, 'var_cost': 85}, {'selling_price': 120, 'var_cost': 90}, {'selling_price': 120, 'var_cost': 95}, {'selling_price': 120, 'var_cost': 100}, {'selling_price': 120, 'var_cost': 105}, {'selling_price': 120, 'var_cost': 110}, {'selling_price': 120, 'var_cost': 115}, {'selling_price': 130, 'var_cost': 85}, {'selling_price': 130, 'var_cost': 90}, {'selling_price': 130, 'var_cost': 95}, {'selling_price': 130, 'var_cost': 100}, {'selling_price': 130, 'var_cost': 105}, {'selling_price': 130, 'var_cost': 110}, {'selling_price': 130, 'var_cost': 115}, {'selling_price': 140, 'var_cost': 85}, {'selling_price': 140, 'var_cost': 90}, {'selling_price': 140, 'var_cost': 95}, {'selling_price': 140, 'var_cost': 100}, {'selling_price': 140, 'var_cost': 105}, {'selling_price': 140, 'var_cost': 110}, {'selling_price': 140, 'var_cost': 115}]\n"
     ]
    }
   ],
   "source": [
    "#view parameter grid\n",
    "dt_param_grid = list(ParameterGrid(dt_param_ranges))\n",
    "print(dt_param_grid)"
   ]
  },
  {
   "cell_type": "code",
   "execution_count": 1216,
   "id": "12bed5f5",
   "metadata": {},
   "outputs": [],
   "source": [
    "from itertools import product"
   ]
  },
  {
   "cell_type": "code",
   "execution_count": 1217,
   "id": "2fa4f0f9",
   "metadata": {},
   "outputs": [
    {
     "data": {
      "text/plain": [
       "dict_items([('selling_price', array([ 80,  90, 100, 110, 120, 130, 140])), ('var_cost', array([ 85,  90,  95, 100, 105, 110, 115]))])"
      ]
     },
     "execution_count": 1217,
     "metadata": {},
     "output_type": "execute_result"
    }
   ],
   "source": [
    "# Look at the key, value pairs (tuples) in dt_param_ranges dictionary\n",
    "dt_param_ranges.items()"
   ]
  },
  {
   "cell_type": "code",
   "execution_count": 1218,
   "id": "2d8fb723",
   "metadata": {},
   "outputs": [
    {
     "name": "stdout",
     "output_type": "stream",
     "text": [
      "The original tuples\n",
      "('selling_price', array([ 80,  90, 100, 110, 120, 130, 140])) ('var_cost', array([ 85,  90,  95, 100, 105, 110, 115]))\n",
      "\n",
      "The zipped tuples\n",
      "('selling_price', 'var_cost') (array([ 80,  90, 100, 110, 120, 130, 140]), array([ 85,  90,  95, 100, 105, 110, 115]))\n"
     ]
    }
   ],
   "source": [
    "#Now we can use unpacking along with the zip function to get two tuples. One tuple will get stored in the variable keys and the other in values.\n",
    "print(\"The original tuples\")\n",
    "print(*dt_param_ranges.items())\n",
    "print(\"\\nThe zipped tuples\")\n",
    "keys, values = zip(*dt_param_ranges.items())\n",
    "print(keys, values)"
   ]
  },
  {
   "cell_type": "code",
   "execution_count": 1219,
   "id": "890adabb",
   "metadata": {},
   "outputs": [
    {
     "name": "stdout",
     "output_type": "stream",
     "text": [
      "(array([ 80,  90, 100, 110, 120, 130, 140]), array([ 85,  90,  95, 100, 105, 110, 115]))\n"
     ]
    }
   ],
   "source": [
    "print(values)"
   ]
  },
  {
   "cell_type": "code",
   "execution_count": 1220,
   "id": "6e17b454",
   "metadata": {},
   "outputs": [
    {
     "name": "stdout",
     "output_type": "stream",
     "text": [
      "[(80, 85), (80, 90), (80, 95), (80, 100), (80, 105), (80, 110), (80, 115), (90, 85), (90, 90), (90, 95), (90, 100), (90, 105), (90, 110), (90, 115), (100, 85), (100, 90), (100, 95), (100, 100), (100, 105), (100, 110), (100, 115), (110, 85), (110, 90), (110, 95), (110, 100), (110, 105), (110, 110), (110, 115), (120, 85), (120, 90), (120, 95), (120, 100), (120, 105), (120, 110), (120, 115), (130, 85), (130, 90), (130, 95), (130, 100), (130, 105), (130, 110), (130, 115), (140, 85), (140, 90), (140, 95), (140, 100), (140, 105), (140, 110), (140, 115)]\n"
     ]
    }
   ],
   "source": [
    "print(list(product(*values)))"
   ]
  },
  {
   "cell_type": "code",
   "execution_count": 1221,
   "id": "145a4d26",
   "metadata": {},
   "outputs": [
    {
     "data": {
      "text/plain": [
       "('selling_price', 'var_cost')"
      ]
     },
     "execution_count": 1221,
     "metadata": {},
     "output_type": "execute_result"
    }
   ],
   "source": [
    "keys"
   ]
  },
  {
   "cell_type": "code",
   "execution_count": 1222,
   "id": "5e30ca1c",
   "metadata": {},
   "outputs": [
    {
     "name": "stdout",
     "output_type": "stream",
     "text": [
      "[{'selling_price': 80, 'var_cost': 85}, {'selling_price': 80, 'var_cost': 90}, {'selling_price': 80, 'var_cost': 95}, {'selling_price': 80, 'var_cost': 100}, {'selling_price': 80, 'var_cost': 105}, {'selling_price': 80, 'var_cost': 110}, {'selling_price': 80, 'var_cost': 115}, {'selling_price': 90, 'var_cost': 85}, {'selling_price': 90, 'var_cost': 90}, {'selling_price': 90, 'var_cost': 95}, {'selling_price': 90, 'var_cost': 100}, {'selling_price': 90, 'var_cost': 105}, {'selling_price': 90, 'var_cost': 110}, {'selling_price': 90, 'var_cost': 115}, {'selling_price': 100, 'var_cost': 85}, {'selling_price': 100, 'var_cost': 90}, {'selling_price': 100, 'var_cost': 95}, {'selling_price': 100, 'var_cost': 100}, {'selling_price': 100, 'var_cost': 105}, {'selling_price': 100, 'var_cost': 110}, {'selling_price': 100, 'var_cost': 115}, {'selling_price': 110, 'var_cost': 85}, {'selling_price': 110, 'var_cost': 90}, {'selling_price': 110, 'var_cost': 95}, {'selling_price': 110, 'var_cost': 100}, {'selling_price': 110, 'var_cost': 105}, {'selling_price': 110, 'var_cost': 110}, {'selling_price': 110, 'var_cost': 115}, {'selling_price': 120, 'var_cost': 85}, {'selling_price': 120, 'var_cost': 90}, {'selling_price': 120, 'var_cost': 95}, {'selling_price': 120, 'var_cost': 100}, {'selling_price': 120, 'var_cost': 105}, {'selling_price': 120, 'var_cost': 110}, {'selling_price': 120, 'var_cost': 115}, {'selling_price': 130, 'var_cost': 85}, {'selling_price': 130, 'var_cost': 90}, {'selling_price': 130, 'var_cost': 95}, {'selling_price': 130, 'var_cost': 100}, {'selling_price': 130, 'var_cost': 105}, {'selling_price': 130, 'var_cost': 110}, {'selling_price': 130, 'var_cost': 115}, {'selling_price': 140, 'var_cost': 85}, {'selling_price': 140, 'var_cost': 90}, {'selling_price': 140, 'var_cost': 95}, {'selling_price': 140, 'var_cost': 100}, {'selling_price': 140, 'var_cost': 105}, {'selling_price': 140, 'var_cost': 110}, {'selling_price': 140, 'var_cost': 115}]\n"
     ]
    }
   ],
   "source": [
    "#zip and turn into dictionary\n",
    "param_grid = []\n",
    "\n",
    "keys, values = zip(*dt_param_ranges.items())\n",
    "\n",
    "for scenario in product(*values):\n",
    "    params = dict(zip(keys, scenario))\n",
    "    param_grid.append(params)\n",
    "        \n",
    "print(param_grid)"
   ]
  },
  {
   "cell_type": "code",
   "execution_count": 1223,
   "id": "8cc87cb5",
   "metadata": {},
   "outputs": [
    {
     "data": {
      "text/plain": [
       "20028"
      ]
     },
     "execution_count": 1223,
     "metadata": {},
     "output_type": "execute_result"
    }
   ],
   "source": [
    "#indirect method calling with getattr\n",
    "getattr(model_2, 'profit')()"
   ]
  },
  {
   "cell_type": "code",
   "execution_count": 1224,
   "id": "8fbff29c",
   "metadata": {},
   "outputs": [],
   "source": [
    "#new dictionary\n",
    "base_inputs = {'var_cost': 100,\n",
    "'selling_price': 115,\n",
    "'fixed_cost': 5000,\n",
    "'spf_linear': -35,\n",
    "'spf_constant': 4900,\n",
    "'spf_quadratic': 0.06,\n",
    "}"
   ]
  },
  {
   "cell_type": "code",
   "execution_count": 1225,
   "id": "50817cdc",
   "metadata": {},
   "outputs": [
    {
     "name": "stdout",
     "output_type": "stream",
     "text": [
      "{'var_cost': 100, 'selling_price': 115, 'fixed_cost': 5000, 'spf_linear': -35, 'spf_constant': 4900, 'spf_quadratic': 0.06}\n"
     ]
    },
    {
     "data": {
      "text/plain": [
       "20028"
      ]
     },
     "execution_count": 1225,
     "metadata": {},
     "output_type": "execute_result"
    }
   ],
   "source": [
    "# Create a new model with inputs specified by base_inputs dict\n",
    "model_6 = SingleProductSPF(**base_inputs)\n",
    "print(model_6)\n",
    "model_6.profit()\n"
   ]
  },
  {
   "cell_type": "code",
   "execution_count": 1226,
   "id": "c53e5f58",
   "metadata": {},
   "outputs": [],
   "source": [
    "# Specify input ranges for scenarios (dictionary)\n",
    "# 1-way table\n",
    "dt_param_ranges_1 = {'selling_price': np.arange(80, 150, 10)}\n",
    "\n",
    "\n",
    "# 2-way table\n",
    "dt_param_ranges_2 = {'selling_price': np.arange(80, 150, 10),\n",
    "                     'var_cost': np.arange(85, 120, 5)}\n",
    "\n",
    "# Specify desired outputs (list)\n",
    "outputs = ['demand', 'profit']\n",
    "\n"
   ]
  },
  {
   "cell_type": "code",
   "execution_count": 1227,
   "id": "37a16f09",
   "metadata": {},
   "outputs": [
    {
     "data": {
      "text/html": [
       "<div>\n",
       "<style scoped>\n",
       "    .dataframe tbody tr th:only-of-type {\n",
       "        vertical-align: middle;\n",
       "    }\n",
       "\n",
       "    .dataframe tbody tr th {\n",
       "        vertical-align: top;\n",
       "    }\n",
       "\n",
       "    .dataframe thead th {\n",
       "        text-align: right;\n",
       "    }\n",
       "</style>\n",
       "<table border=\"1\" class=\"dataframe\">\n",
       "  <thead>\n",
       "    <tr style=\"text-align: right;\">\n",
       "      <th></th>\n",
       "      <th>selling_price</th>\n",
       "      <th>demand</th>\n",
       "      <th>profit</th>\n",
       "    </tr>\n",
       "  </thead>\n",
       "  <tbody>\n",
       "    <tr>\n",
       "      <th>0</th>\n",
       "      <td>80</td>\n",
       "      <td>2484.0</td>\n",
       "      <td>-54680</td>\n",
       "    </tr>\n",
       "    <tr>\n",
       "      <th>1</th>\n",
       "      <td>90</td>\n",
       "      <td>2236.0</td>\n",
       "      <td>-27360</td>\n",
       "    </tr>\n",
       "    <tr>\n",
       "      <th>2</th>\n",
       "      <td>100</td>\n",
       "      <td>2000.0</td>\n",
       "      <td>-5000</td>\n",
       "    </tr>\n",
       "    <tr>\n",
       "      <th>3</th>\n",
       "      <td>110</td>\n",
       "      <td>1776.0</td>\n",
       "      <td>12760</td>\n",
       "    </tr>\n",
       "    <tr>\n",
       "      <th>4</th>\n",
       "      <td>120</td>\n",
       "      <td>1564.0</td>\n",
       "      <td>26280</td>\n",
       "    </tr>\n",
       "    <tr>\n",
       "      <th>5</th>\n",
       "      <td>130</td>\n",
       "      <td>1364.0</td>\n",
       "      <td>35920</td>\n",
       "    </tr>\n",
       "    <tr>\n",
       "      <th>6</th>\n",
       "      <td>140</td>\n",
       "      <td>1176.0</td>\n",
       "      <td>42040</td>\n",
       "    </tr>\n",
       "  </tbody>\n",
       "</table>\n",
       "</div>"
      ],
      "text/plain": [
       "   selling_price  demand  profit\n",
       "0             80  2484.0  -54680\n",
       "1             90  2236.0  -27360\n",
       "2            100  2000.0   -5000\n",
       "3            110  1776.0   12760\n",
       "4            120  1564.0   26280\n",
       "5            130  1364.0   35920\n",
       "6            140  1176.0   42040"
      ]
     },
     "execution_count": 1227,
     "metadata": {},
     "output_type": "execute_result"
    }
   ],
   "source": [
    "# Use data_table function to create 1-way data table\n",
    "m6_dt1_df = data_table(model_6, dt_param_ranges_1, outputs)\n",
    "m6_dt1_df\n"
   ]
  },
  {
   "cell_type": "code",
   "execution_count": 1228,
   "id": "38931907",
   "metadata": {},
   "outputs": [
    {
     "data": {
      "text/html": [
       "<div>\n",
       "<style scoped>\n",
       "    .dataframe tbody tr th:only-of-type {\n",
       "        vertical-align: middle;\n",
       "    }\n",
       "\n",
       "    .dataframe tbody tr th {\n",
       "        vertical-align: top;\n",
       "    }\n",
       "\n",
       "    .dataframe thead th {\n",
       "        text-align: right;\n",
       "    }\n",
       "</style>\n",
       "<table border=\"1\" class=\"dataframe\">\n",
       "  <thead>\n",
       "    <tr style=\"text-align: right;\">\n",
       "      <th></th>\n",
       "      <th>selling_price</th>\n",
       "      <th>var_cost</th>\n",
       "      <th>demand</th>\n",
       "      <th>profit</th>\n",
       "    </tr>\n",
       "  </thead>\n",
       "  <tbody>\n",
       "    <tr>\n",
       "      <th>0</th>\n",
       "      <td>80</td>\n",
       "      <td>85</td>\n",
       "      <td>2484.0</td>\n",
       "      <td>-17420</td>\n",
       "    </tr>\n",
       "    <tr>\n",
       "      <th>1</th>\n",
       "      <td>80</td>\n",
       "      <td>90</td>\n",
       "      <td>2484.0</td>\n",
       "      <td>-29840</td>\n",
       "    </tr>\n",
       "    <tr>\n",
       "      <th>2</th>\n",
       "      <td>80</td>\n",
       "      <td>95</td>\n",
       "      <td>2484.0</td>\n",
       "      <td>-42260</td>\n",
       "    </tr>\n",
       "    <tr>\n",
       "      <th>3</th>\n",
       "      <td>80</td>\n",
       "      <td>100</td>\n",
       "      <td>2484.0</td>\n",
       "      <td>-54680</td>\n",
       "    </tr>\n",
       "    <tr>\n",
       "      <th>4</th>\n",
       "      <td>80</td>\n",
       "      <td>105</td>\n",
       "      <td>2484.0</td>\n",
       "      <td>-67100</td>\n",
       "    </tr>\n",
       "    <tr>\n",
       "      <th>5</th>\n",
       "      <td>80</td>\n",
       "      <td>110</td>\n",
       "      <td>2484.0</td>\n",
       "      <td>-79520</td>\n",
       "    </tr>\n",
       "    <tr>\n",
       "      <th>6</th>\n",
       "      <td>80</td>\n",
       "      <td>115</td>\n",
       "      <td>2484.0</td>\n",
       "      <td>-91940</td>\n",
       "    </tr>\n",
       "    <tr>\n",
       "      <th>7</th>\n",
       "      <td>90</td>\n",
       "      <td>85</td>\n",
       "      <td>2236.0</td>\n",
       "      <td>6180</td>\n",
       "    </tr>\n",
       "    <tr>\n",
       "      <th>8</th>\n",
       "      <td>90</td>\n",
       "      <td>90</td>\n",
       "      <td>2236.0</td>\n",
       "      <td>-5000</td>\n",
       "    </tr>\n",
       "    <tr>\n",
       "      <th>9</th>\n",
       "      <td>90</td>\n",
       "      <td>95</td>\n",
       "      <td>2236.0</td>\n",
       "      <td>-16180</td>\n",
       "    </tr>\n",
       "    <tr>\n",
       "      <th>10</th>\n",
       "      <td>90</td>\n",
       "      <td>100</td>\n",
       "      <td>2236.0</td>\n",
       "      <td>-27360</td>\n",
       "    </tr>\n",
       "    <tr>\n",
       "      <th>11</th>\n",
       "      <td>90</td>\n",
       "      <td>105</td>\n",
       "      <td>2236.0</td>\n",
       "      <td>-38540</td>\n",
       "    </tr>\n",
       "    <tr>\n",
       "      <th>12</th>\n",
       "      <td>90</td>\n",
       "      <td>110</td>\n",
       "      <td>2236.0</td>\n",
       "      <td>-49720</td>\n",
       "    </tr>\n",
       "    <tr>\n",
       "      <th>13</th>\n",
       "      <td>90</td>\n",
       "      <td>115</td>\n",
       "      <td>2236.0</td>\n",
       "      <td>-60900</td>\n",
       "    </tr>\n",
       "    <tr>\n",
       "      <th>14</th>\n",
       "      <td>100</td>\n",
       "      <td>85</td>\n",
       "      <td>2000.0</td>\n",
       "      <td>25000</td>\n",
       "    </tr>\n",
       "    <tr>\n",
       "      <th>15</th>\n",
       "      <td>100</td>\n",
       "      <td>90</td>\n",
       "      <td>2000.0</td>\n",
       "      <td>15000</td>\n",
       "    </tr>\n",
       "    <tr>\n",
       "      <th>16</th>\n",
       "      <td>100</td>\n",
       "      <td>95</td>\n",
       "      <td>2000.0</td>\n",
       "      <td>5000</td>\n",
       "    </tr>\n",
       "    <tr>\n",
       "      <th>17</th>\n",
       "      <td>100</td>\n",
       "      <td>100</td>\n",
       "      <td>2000.0</td>\n",
       "      <td>-5000</td>\n",
       "    </tr>\n",
       "    <tr>\n",
       "      <th>18</th>\n",
       "      <td>100</td>\n",
       "      <td>105</td>\n",
       "      <td>2000.0</td>\n",
       "      <td>-15000</td>\n",
       "    </tr>\n",
       "    <tr>\n",
       "      <th>19</th>\n",
       "      <td>100</td>\n",
       "      <td>110</td>\n",
       "      <td>2000.0</td>\n",
       "      <td>-25000</td>\n",
       "    </tr>\n",
       "    <tr>\n",
       "      <th>20</th>\n",
       "      <td>100</td>\n",
       "      <td>115</td>\n",
       "      <td>2000.0</td>\n",
       "      <td>-35000</td>\n",
       "    </tr>\n",
       "    <tr>\n",
       "      <th>21</th>\n",
       "      <td>110</td>\n",
       "      <td>85</td>\n",
       "      <td>1776.0</td>\n",
       "      <td>39400</td>\n",
       "    </tr>\n",
       "    <tr>\n",
       "      <th>22</th>\n",
       "      <td>110</td>\n",
       "      <td>90</td>\n",
       "      <td>1776.0</td>\n",
       "      <td>30520</td>\n",
       "    </tr>\n",
       "    <tr>\n",
       "      <th>23</th>\n",
       "      <td>110</td>\n",
       "      <td>95</td>\n",
       "      <td>1776.0</td>\n",
       "      <td>21640</td>\n",
       "    </tr>\n",
       "    <tr>\n",
       "      <th>24</th>\n",
       "      <td>110</td>\n",
       "      <td>100</td>\n",
       "      <td>1776.0</td>\n",
       "      <td>12760</td>\n",
       "    </tr>\n",
       "    <tr>\n",
       "      <th>25</th>\n",
       "      <td>110</td>\n",
       "      <td>105</td>\n",
       "      <td>1776.0</td>\n",
       "      <td>3880</td>\n",
       "    </tr>\n",
       "    <tr>\n",
       "      <th>26</th>\n",
       "      <td>110</td>\n",
       "      <td>110</td>\n",
       "      <td>1776.0</td>\n",
       "      <td>-5000</td>\n",
       "    </tr>\n",
       "    <tr>\n",
       "      <th>27</th>\n",
       "      <td>110</td>\n",
       "      <td>115</td>\n",
       "      <td>1776.0</td>\n",
       "      <td>-13880</td>\n",
       "    </tr>\n",
       "    <tr>\n",
       "      <th>28</th>\n",
       "      <td>120</td>\n",
       "      <td>85</td>\n",
       "      <td>1564.0</td>\n",
       "      <td>49740</td>\n",
       "    </tr>\n",
       "    <tr>\n",
       "      <th>29</th>\n",
       "      <td>120</td>\n",
       "      <td>90</td>\n",
       "      <td>1564.0</td>\n",
       "      <td>41920</td>\n",
       "    </tr>\n",
       "    <tr>\n",
       "      <th>30</th>\n",
       "      <td>120</td>\n",
       "      <td>95</td>\n",
       "      <td>1564.0</td>\n",
       "      <td>34100</td>\n",
       "    </tr>\n",
       "    <tr>\n",
       "      <th>31</th>\n",
       "      <td>120</td>\n",
       "      <td>100</td>\n",
       "      <td>1564.0</td>\n",
       "      <td>26280</td>\n",
       "    </tr>\n",
       "    <tr>\n",
       "      <th>32</th>\n",
       "      <td>120</td>\n",
       "      <td>105</td>\n",
       "      <td>1564.0</td>\n",
       "      <td>18460</td>\n",
       "    </tr>\n",
       "    <tr>\n",
       "      <th>33</th>\n",
       "      <td>120</td>\n",
       "      <td>110</td>\n",
       "      <td>1564.0</td>\n",
       "      <td>10640</td>\n",
       "    </tr>\n",
       "    <tr>\n",
       "      <th>34</th>\n",
       "      <td>120</td>\n",
       "      <td>115</td>\n",
       "      <td>1564.0</td>\n",
       "      <td>2820</td>\n",
       "    </tr>\n",
       "    <tr>\n",
       "      <th>35</th>\n",
       "      <td>130</td>\n",
       "      <td>85</td>\n",
       "      <td>1364.0</td>\n",
       "      <td>56380</td>\n",
       "    </tr>\n",
       "    <tr>\n",
       "      <th>36</th>\n",
       "      <td>130</td>\n",
       "      <td>90</td>\n",
       "      <td>1364.0</td>\n",
       "      <td>49560</td>\n",
       "    </tr>\n",
       "    <tr>\n",
       "      <th>37</th>\n",
       "      <td>130</td>\n",
       "      <td>95</td>\n",
       "      <td>1364.0</td>\n",
       "      <td>42740</td>\n",
       "    </tr>\n",
       "    <tr>\n",
       "      <th>38</th>\n",
       "      <td>130</td>\n",
       "      <td>100</td>\n",
       "      <td>1364.0</td>\n",
       "      <td>35920</td>\n",
       "    </tr>\n",
       "    <tr>\n",
       "      <th>39</th>\n",
       "      <td>130</td>\n",
       "      <td>105</td>\n",
       "      <td>1364.0</td>\n",
       "      <td>29100</td>\n",
       "    </tr>\n",
       "    <tr>\n",
       "      <th>40</th>\n",
       "      <td>130</td>\n",
       "      <td>110</td>\n",
       "      <td>1364.0</td>\n",
       "      <td>22280</td>\n",
       "    </tr>\n",
       "    <tr>\n",
       "      <th>41</th>\n",
       "      <td>130</td>\n",
       "      <td>115</td>\n",
       "      <td>1364.0</td>\n",
       "      <td>15460</td>\n",
       "    </tr>\n",
       "    <tr>\n",
       "      <th>42</th>\n",
       "      <td>140</td>\n",
       "      <td>85</td>\n",
       "      <td>1176.0</td>\n",
       "      <td>59680</td>\n",
       "    </tr>\n",
       "    <tr>\n",
       "      <th>43</th>\n",
       "      <td>140</td>\n",
       "      <td>90</td>\n",
       "      <td>1176.0</td>\n",
       "      <td>53800</td>\n",
       "    </tr>\n",
       "    <tr>\n",
       "      <th>44</th>\n",
       "      <td>140</td>\n",
       "      <td>95</td>\n",
       "      <td>1176.0</td>\n",
       "      <td>47920</td>\n",
       "    </tr>\n",
       "    <tr>\n",
       "      <th>45</th>\n",
       "      <td>140</td>\n",
       "      <td>100</td>\n",
       "      <td>1176.0</td>\n",
       "      <td>42040</td>\n",
       "    </tr>\n",
       "    <tr>\n",
       "      <th>46</th>\n",
       "      <td>140</td>\n",
       "      <td>105</td>\n",
       "      <td>1176.0</td>\n",
       "      <td>36160</td>\n",
       "    </tr>\n",
       "    <tr>\n",
       "      <th>47</th>\n",
       "      <td>140</td>\n",
       "      <td>110</td>\n",
       "      <td>1176.0</td>\n",
       "      <td>30280</td>\n",
       "    </tr>\n",
       "    <tr>\n",
       "      <th>48</th>\n",
       "      <td>140</td>\n",
       "      <td>115</td>\n",
       "      <td>1176.0</td>\n",
       "      <td>24400</td>\n",
       "    </tr>\n",
       "  </tbody>\n",
       "</table>\n",
       "</div>"
      ],
      "text/plain": [
       "    selling_price  var_cost  demand  profit\n",
       "0              80        85  2484.0  -17420\n",
       "1              80        90  2484.0  -29840\n",
       "2              80        95  2484.0  -42260\n",
       "3              80       100  2484.0  -54680\n",
       "4              80       105  2484.0  -67100\n",
       "5              80       110  2484.0  -79520\n",
       "6              80       115  2484.0  -91940\n",
       "7              90        85  2236.0    6180\n",
       "8              90        90  2236.0   -5000\n",
       "9              90        95  2236.0  -16180\n",
       "10             90       100  2236.0  -27360\n",
       "11             90       105  2236.0  -38540\n",
       "12             90       110  2236.0  -49720\n",
       "13             90       115  2236.0  -60900\n",
       "14            100        85  2000.0   25000\n",
       "15            100        90  2000.0   15000\n",
       "16            100        95  2000.0    5000\n",
       "17            100       100  2000.0   -5000\n",
       "18            100       105  2000.0  -15000\n",
       "19            100       110  2000.0  -25000\n",
       "20            100       115  2000.0  -35000\n",
       "21            110        85  1776.0   39400\n",
       "22            110        90  1776.0   30520\n",
       "23            110        95  1776.0   21640\n",
       "24            110       100  1776.0   12760\n",
       "25            110       105  1776.0    3880\n",
       "26            110       110  1776.0   -5000\n",
       "27            110       115  1776.0  -13880\n",
       "28            120        85  1564.0   49740\n",
       "29            120        90  1564.0   41920\n",
       "30            120        95  1564.0   34100\n",
       "31            120       100  1564.0   26280\n",
       "32            120       105  1564.0   18460\n",
       "33            120       110  1564.0   10640\n",
       "34            120       115  1564.0    2820\n",
       "35            130        85  1364.0   56380\n",
       "36            130        90  1364.0   49560\n",
       "37            130        95  1364.0   42740\n",
       "38            130       100  1364.0   35920\n",
       "39            130       105  1364.0   29100\n",
       "40            130       110  1364.0   22280\n",
       "41            130       115  1364.0   15460\n",
       "42            140        85  1176.0   59680\n",
       "43            140        90  1176.0   53800\n",
       "44            140        95  1176.0   47920\n",
       "45            140       100  1176.0   42040\n",
       "46            140       105  1176.0   36160\n",
       "47            140       110  1176.0   30280\n",
       "48            140       115  1176.0   24400"
      ]
     },
     "execution_count": 1228,
     "metadata": {},
     "output_type": "execute_result"
    }
   ],
   "source": [
    "# Use data_table function to create 2-way data table\n",
    "m6_dt2_df = data_table(model_6, dt_param_ranges_2, outputs)\n",
    "m6_dt2_df"
   ]
  },
  {
   "cell_type": "code",
   "execution_count": 1229,
   "id": "f2e59c7c",
   "metadata": {},
   "outputs": [
    {
     "data": {
      "image/png": "[encoded data removed]",
      "text/plain": [
       "<Figure size 864x576 with 7 Axes>"
      ]
     },
     "metadata": {
      "needs_background": "light"
     },
     "output_type": "display_data"
    },
    {
     "data": {
      "image/png": "[encoded data removed]",
      "text/plain": [
       "<Figure size 1080x1080 with 7 Axes>"
      ]
     },
     "metadata": {
      "needs_background": "light"
     },
     "output_type": "display_data"
    }
   ],
   "source": [
    "#plot 1-way results using seaborn\n",
    "g = sns.FacetGrid(m6_dt1_df, col=\"selling_price\", col_wrap=3)\n",
    "g.map(sns.scatterplot, \"profit\", \"demand\")\n",
    "g.fig.set_size_inches(12, 8)\n",
    "g.set_axis_labels(\"Profit\", \"Demand\")\n",
    "plt.show()\n",
    "\n",
    "#plot 2-way results using seaborn\n",
    "g = sns.FacetGrid(m6_dt2_df, col=\"var_cost\", col_wrap=3)\n",
    "g.map(sns.scatterplot, \"profit\", \"demand\")\n",
    "g.fig.set_size_inches(15, 15)\n",
    "g.set_axis_labels(\"Profit\", \"Demand\")\n",
    "plt.show()"
   ]
  },
  {
   "cell_type": "code",
   "execution_count": 1230,
   "id": "4765584d",
   "metadata": {},
   "outputs": [
    {
     "data": {
      "image/png": "[encoded data removed]",
      "text/plain": [
       "<Figure size 648x648 with 7 Axes>"
      ]
     },
     "metadata": {
      "needs_background": "light"
     },
     "output_type": "display_data"
    }
   ],
   "source": [
    "#from notes\n",
    "profit_dt_g = sns.FacetGrid(m6_dt1_df, col=\"selling_price\", sharey=True, col_wrap=3)\n",
    "profit_dt_g = profit_dt_g.map(plt.plot, \"demand\", \"profit\")\n"
   ]
  },
  {
   "cell_type": "markdown",
   "id": "9489ded8",
   "metadata": {},
   "source": [
    "For some reason, my 1-way data table would not populate line graphs using the code presneted in the notes. I tried a different way.\n",
    "It appears that the 1-way table between selling price and profit is linear, as selling price increases the demand and profit go down.\n",
    "This is also echoed by the two way table\n"
   ]
  },
  {
   "cell_type": "markdown",
   "id": "c4fcb462",
   "metadata": {},
   "source": [
    "### 1c – Goal Seek Break Even"
   ]
  },
  {
   "cell_type": "code",
   "execution_count": 1231,
   "id": "1ba6efef",
   "metadata": {},
   "outputs": [],
   "source": [
    "import numpy as np\n",
    "import pandas as pd\n",
    "import matplotlib.pyplot as plt\n",
    "from sklearn.model_selection._search import ParameterGrid\n",
    "import seaborn as sns\n",
    "import copy"
   ]
  },
  {
   "cell_type": "code",
   "execution_count": 1232,
   "id": "ec0fa083",
   "metadata": {},
   "outputs": [
    {
     "name": "stdout",
     "output_type": "stream",
     "text": [
      "n = 1, a_n = 80, b_n = 140, m_n = 110.0, width = 60\n",
      "Root is in left half\n",
      "n = 2, a_n = 80, b_n = 110.0, m_n = 95.0, width = 30.0\n",
      "Root is in right half\n",
      "n = 3, a_n = 95.0, b_n = 110.0, m_n = 102.5, width = 15.0\n",
      "Root is in right half\n",
      "n = 4, a_n = 102.5, b_n = 110.0, m_n = 106.25, width = 7.5\n",
      "Root is in left half\n",
      "n = 5, a_n = 102.5, b_n = 106.25, m_n = 104.375, width = 3.75\n",
      "Root is in left half\n",
      "n = 6, a_n = 102.5, b_n = 104.375, m_n = 103.4375, width = 1.875\n",
      "Root is in left half\n",
      "n = 7, a_n = 102.5, b_n = 103.4375, m_n = 102.96875, width = 0.9375\n",
      "Root is in left half\n",
      "n = 8, a_n = 102.5, b_n = 102.96875, m_n = 102.734375, width = 0.46875\n",
      "Root is in left half\n",
      "n = 9, a_n = 102.5, b_n = 102.734375, m_n = 102.6171875, width = 0.234375\n",
      "Root is in left half\n",
      "n = 10, a_n = 102.5, b_n = 102.6171875, m_n = 102.55859375, width = 0.1171875\n",
      "Root is in right half\n",
      "n = 11, a_n = 102.55859375, b_n = 102.6171875, m_n = 102.587890625, width = 0.05859375\n",
      "Root is in left half\n",
      "n = 12, a_n = 102.55859375, b_n = 102.587890625, m_n = 102.5732421875, width = 0.029296875\n",
      "Root is in right half\n",
      "n = 13, a_n = 102.5732421875, b_n = 102.587890625, m_n = 102.58056640625, width = 0.0146484375\n",
      "Root is in left half\n",
      "n = 14, a_n = 102.5732421875, b_n = 102.58056640625, m_n = 102.576904296875, width = 0.00732421875\n",
      "Root is in left half\n",
      "n = 15, a_n = 102.5732421875, b_n = 102.576904296875, m_n = 102.5750732421875, width = 0.003662109375\n",
      "Root is in right half\n",
      "n = 16, a_n = 102.5750732421875, b_n = 102.576904296875, m_n = 102.57598876953125, width = 0.0018310546875\n",
      "Found exact solution.\n"
     ]
    },
    {
     "data": {
      "text/plain": [
       "102.57598876953125"
      ]
     },
     "execution_count": 1232,
     "metadata": {},
     "output_type": "execute_result"
    }
   ],
   "source": [
    "#using goal_Seek from whatif.py\n",
    "goal_seek(model_6, 'profit', 0, 'selling_price', 80, 140, N=100, verbose=True)"
   ]
  },
  {
   "cell_type": "markdown",
   "id": "263ae231",
   "metadata": {},
   "source": [
    "Break even selling price is ~$102 "
   ]
  },
  {
   "cell_type": "markdown",
   "id": "e6bbb5cf",
   "metadata": {},
   "source": [
    "### 1e – Digging deeper"
   ]
  },
  {
   "cell_type": "code",
   "execution_count": 1233,
   "id": "75671c2b",
   "metadata": {},
   "outputs": [],
   "source": [
    "#using goal seek and expanded range\n",
    "goal_seek(model_6, 'profit', 0, 'selling_price', 80, 250, N=200, verbose=True)"
   ]
  },
  {
   "cell_type": "code",
   "execution_count": 1234,
   "id": "2c993b65",
   "metadata": {},
   "outputs": [
    {
     "data": {
      "text/html": [
       "<div>\n",
       "<style scoped>\n",
       "    .dataframe tbody tr th:only-of-type {\n",
       "        vertical-align: middle;\n",
       "    }\n",
       "\n",
       "    .dataframe tbody tr th {\n",
       "        vertical-align: top;\n",
       "    }\n",
       "\n",
       "    .dataframe thead th {\n",
       "        text-align: right;\n",
       "    }\n",
       "</style>\n",
       "<table border=\"1\" class=\"dataframe\">\n",
       "  <thead>\n",
       "    <tr style=\"text-align: right;\">\n",
       "      <th></th>\n",
       "      <th>selling_price</th>\n",
       "      <th>demand</th>\n",
       "      <th>profit</th>\n",
       "    </tr>\n",
       "  </thead>\n",
       "  <tbody>\n",
       "    <tr>\n",
       "      <th>0</th>\n",
       "      <td>80</td>\n",
       "      <td>2484.0</td>\n",
       "      <td>-54680</td>\n",
       "    </tr>\n",
       "    <tr>\n",
       "      <th>1</th>\n",
       "      <td>90</td>\n",
       "      <td>2236.0</td>\n",
       "      <td>-27360</td>\n",
       "    </tr>\n",
       "    <tr>\n",
       "      <th>2</th>\n",
       "      <td>100</td>\n",
       "      <td>2000.0</td>\n",
       "      <td>-5000</td>\n",
       "    </tr>\n",
       "    <tr>\n",
       "      <th>3</th>\n",
       "      <td>110</td>\n",
       "      <td>1776.0</td>\n",
       "      <td>12760</td>\n",
       "    </tr>\n",
       "    <tr>\n",
       "      <th>4</th>\n",
       "      <td>120</td>\n",
       "      <td>1564.0</td>\n",
       "      <td>26280</td>\n",
       "    </tr>\n",
       "    <tr>\n",
       "      <th>5</th>\n",
       "      <td>130</td>\n",
       "      <td>1364.0</td>\n",
       "      <td>35920</td>\n",
       "    </tr>\n",
       "    <tr>\n",
       "      <th>6</th>\n",
       "      <td>140</td>\n",
       "      <td>1176.0</td>\n",
       "      <td>42040</td>\n",
       "    </tr>\n",
       "    <tr>\n",
       "      <th>7</th>\n",
       "      <td>150</td>\n",
       "      <td>1000.0</td>\n",
       "      <td>45000</td>\n",
       "    </tr>\n",
       "    <tr>\n",
       "      <th>8</th>\n",
       "      <td>160</td>\n",
       "      <td>836.0</td>\n",
       "      <td>45160</td>\n",
       "    </tr>\n",
       "    <tr>\n",
       "      <th>9</th>\n",
       "      <td>170</td>\n",
       "      <td>684.0</td>\n",
       "      <td>42880</td>\n",
       "    </tr>\n",
       "    <tr>\n",
       "      <th>10</th>\n",
       "      <td>180</td>\n",
       "      <td>544.0</td>\n",
       "      <td>38520</td>\n",
       "    </tr>\n",
       "    <tr>\n",
       "      <th>11</th>\n",
       "      <td>190</td>\n",
       "      <td>416.0</td>\n",
       "      <td>32440</td>\n",
       "    </tr>\n",
       "    <tr>\n",
       "      <th>12</th>\n",
       "      <td>200</td>\n",
       "      <td>300.0</td>\n",
       "      <td>25000</td>\n",
       "    </tr>\n",
       "    <tr>\n",
       "      <th>13</th>\n",
       "      <td>210</td>\n",
       "      <td>196.0</td>\n",
       "      <td>16560</td>\n",
       "    </tr>\n",
       "    <tr>\n",
       "      <th>14</th>\n",
       "      <td>220</td>\n",
       "      <td>104.0</td>\n",
       "      <td>7480</td>\n",
       "    </tr>\n",
       "    <tr>\n",
       "      <th>15</th>\n",
       "      <td>230</td>\n",
       "      <td>24.0</td>\n",
       "      <td>-1880</td>\n",
       "    </tr>\n",
       "    <tr>\n",
       "      <th>16</th>\n",
       "      <td>240</td>\n",
       "      <td>-44.0</td>\n",
       "      <td>-11160</td>\n",
       "    </tr>\n",
       "    <tr>\n",
       "      <th>17</th>\n",
       "      <td>250</td>\n",
       "      <td>-100.0</td>\n",
       "      <td>-20000</td>\n",
       "    </tr>\n",
       "  </tbody>\n",
       "</table>\n",
       "</div>"
      ],
      "text/plain": [
       "    selling_price  demand  profit\n",
       "0              80  2484.0  -54680\n",
       "1              90  2236.0  -27360\n",
       "2             100  2000.0   -5000\n",
       "3             110  1776.0   12760\n",
       "4             120  1564.0   26280\n",
       "5             130  1364.0   35920\n",
       "6             140  1176.0   42040\n",
       "7             150  1000.0   45000\n",
       "8             160   836.0   45160\n",
       "9             170   684.0   42880\n",
       "10            180   544.0   38520\n",
       "11            190   416.0   32440\n",
       "12            200   300.0   25000\n",
       "13            210   196.0   16560\n",
       "14            220   104.0    7480\n",
       "15            230    24.0   -1880\n",
       "16            240   -44.0  -11160\n",
       "17            250  -100.0  -20000"
      ]
     },
     "execution_count": 1234,
     "metadata": {},
     "output_type": "execute_result"
    }
   ],
   "source": [
    "dt_param_ranges_1_2 = {'selling_price': np.arange(80, 260, 10)}\n",
    "\n",
    "outputs = ['demand', 'profit']\n",
    "\n",
    "m6_dt1_df_2 = data_table(model_6, dt_param_ranges_1_2, outputs)\n",
    "m6_dt1_df_2\n",
    "\n"
   ]
  },
  {
   "cell_type": "code",
   "execution_count": 1235,
   "id": "5c181dc0",
   "metadata": {},
   "outputs": [
    {
     "data": {
      "image/png": "[encoded data removed]",
      "text/plain": [
       "<Figure size 864x576 with 18 Axes>"
      ]
     },
     "metadata": {
      "needs_background": "light"
     },
     "output_type": "display_data"
    }
   ],
   "source": [
    "g = sns.FacetGrid(m6_dt1_df_2, col=\"selling_price\", col_wrap=3)\n",
    "g.map(sns.scatterplot, \"profit\", \"demand\")\n",
    "g.fig.set_size_inches(12, 8)\n",
    "g.set_axis_labels(\"Profit\", \"Demand\")\n",
    "plt.show()"
   ]
  },
  {
   "cell_type": "markdown",
   "id": "b6878f15",
   "metadata": {},
   "source": [
    "When the range is expanded to selling price 80-250, we see that the lower and upper extremes produce negative profit. Only between selling prices of 110-220 are profits possible"
   ]
  },
  {
   "cell_type": "markdown",
   "id": "3eac6445",
   "metadata": {},
   "source": [
    "### 1f- Simulation"
   ]
  },
  {
   "cell_type": "code",
   "execution_count": 1236,
   "id": "7210021c",
   "metadata": {},
   "outputs": [],
   "source": [
    "from numpy.random import default_rng\n",
    "rg = default_rng(4470)\n",
    "\n",
    "num_reps = 100\n",
    "model2 = SingleProductSPF(var_cost=var_cost, \n",
    "                        selling_price=selling_price,\n",
    "                        fixed_cost=fixed_cost,\n",
    "                        spf_linear=spf_linear,\n",
    "                        spf_quadratic=spf_quadratic,\n",
    "                        spf_constant=spf_constant)\n",
    "\n",
    "random_inputs = {'var_cost': rg.uniform(80, 120, num_reps)}"
   ]
  },
  {
   "cell_type": "code",
   "execution_count": 1237,
   "id": "0baf6fe8",
   "metadata": {},
   "outputs": [
    {
     "data": {
      "text/plain": [
       "[{'var_cost': 80},\n",
       " {'var_cost': 90},\n",
       " {'var_cost': 100},\n",
       " {'var_cost': 110},\n",
       " {'var_cost': 120}]"
      ]
     },
     "execution_count": 1237,
     "metadata": {},
     "output_type": "execute_result"
    }
   ],
   "source": [
    "scenario_inputs = {'var_cost': np.arange(80, 130, 10)}\n",
    "list(ParameterGrid(scenario_inputs))"
   ]
  },
  {
   "cell_type": "code",
   "execution_count": 1238,
   "id": "4a9ffd39",
   "metadata": {},
   "outputs": [],
   "source": [
    "sim_outputs = ['profit']"
   ]
  },
  {
   "cell_type": "code",
   "execution_count": 1239,
   "id": "94a4d8ec",
   "metadata": {},
   "outputs": [],
   "source": [
    "model2_results = simulate(model2, random_inputs, sim_outputs, scenario_inputs)"
   ]
  },
  {
   "cell_type": "code",
   "execution_count": 1240,
   "id": "db4397a5",
   "metadata": {},
   "outputs": [],
   "source": [
    "def get_sim_results_df(results):\n",
    "    \n",
    "    dfs = []    \n",
    "    for r in results:\n",
    "        df = pd.DataFrame(r['output'])\n",
    "        df['scenario_num'] = r['scenario_num']\n",
    "        for key, val in r['scenario_vals'].items():\n",
    "            df[key] = val\n",
    "            \n",
    "        dfs.append(df)\n",
    "\n",
    "    results_df = pd.concat(dfs)\n",
    "    \n",
    "    return results_df"
   ]
  },
  {
   "cell_type": "code",
   "execution_count": 1241,
   "id": "afcc7960",
   "metadata": {},
   "outputs": [
    {
     "data": {
      "text/plain": [
       "dict_keys(['scenario_base_vals', 'scenario_num', 'scenario_vals', 'output'])"
      ]
     },
     "execution_count": 1241,
     "metadata": {},
     "output_type": "execute_result"
    }
   ],
   "source": [
    "which_scenario = 4\n",
    "\n",
    "# What are the keys in the output dictionaries\n",
    "model2_results[which_scenario].keys()"
   ]
  },
  {
   "cell_type": "code",
   "execution_count": 1242,
   "id": "cd93bce7",
   "metadata": {},
   "outputs": [
    {
     "data": {
      "text/plain": [
       "{'var_cost': 120}"
      ]
     },
     "execution_count": 1242,
     "metadata": {},
     "output_type": "execute_result"
    }
   ],
   "source": [
    "model2_results[which_scenario]['scenario_vals']"
   ]
  },
  {
   "cell_type": "code",
   "execution_count": 1243,
   "id": "c9e09016",
   "metadata": {},
   "outputs": [
    {
     "name": "stdout",
     "output_type": "stream",
     "text": [
      "0 {'var_cost': 80} 53398\n",
      "1 {'var_cost': 90} 36712\n",
      "2 {'var_cost': 100} 20028\n",
      "3 {'var_cost': 110} 3342\n",
      "4 {'var_cost': 120} -13342\n"
     ]
    }
   ],
   "source": [
    "for scenario in model2_results:\n",
    "    print(scenario['scenario_num'], scenario['scenario_vals'], scenario['output']['profit'])"
   ]
  },
  {
   "cell_type": "code",
   "execution_count": 1244,
   "id": "3d9c739d",
   "metadata": {},
   "outputs": [
    {
     "data": {
      "text/plain": [
       "{'scenario_base_vals': {'var_cost': 100,\n",
       "  'selling_price': 115,\n",
       "  'fixed_cost': 5000,\n",
       "  'spf_linear': -35,\n",
       "  'spf_constant': 4900,\n",
       "  'spf_quadratic': 0.06},\n",
       " 'scenario_num': 4,\n",
       " 'scenario_vals': {'var_cost': 120},\n",
       " 'output': {'profit': -13342}}"
      ]
     },
     "execution_count": 1244,
     "metadata": {},
     "output_type": "execute_result"
    }
   ],
   "source": [
    "model2_results[4]"
   ]
  },
  {
   "cell_type": "code",
   "execution_count": 1245,
   "id": "4e7566d2",
   "metadata": {},
   "outputs": [],
   "source": [
    "def get_sim_results_df(results):\n",
    "    \n",
    "    dfs = []    \n",
    "    for r in results:\n",
    "        df = pd.DataFrame(r['output'])\n",
    "        df['scenario_num'] = r['scenario_num']\n",
    "        for key, val in r['scenario_vals'].items():\n",
    "            df[key] = val\n",
    "            \n",
    "        dfs.append(df)\n",
    "\n",
    "    results_df = pd.concat(dfs)\n",
    "    \n",
    "    return results_df"
   ]
  },
  {
   "cell_type": "code",
   "execution_count": 1246,
   "id": "b60c6f22",
   "metadata": {},
   "outputs": [
    {
     "ename": "ValueError",
     "evalue": "If using all scalar values, you must pass an index",
     "output_type": "error",
     "traceback": [
      "\u001b[1;31m---------------------------------------------------------------------------\u001b[0m",
      "\u001b[1;31mValueError\u001b[0m                                Traceback (most recent call last)",
      "\u001b[1;32m~\\AppData\\Local\\Temp/ipykernel_16716/1527437607.py\u001b[0m in \u001b[0;36m<module>\u001b[1;34m\u001b[0m\n\u001b[1;32m----> 1\u001b[1;33m \u001b[0mmodel2_results_df\u001b[0m \u001b[1;33m=\u001b[0m \u001b[0mget_sim_results_df\u001b[0m\u001b[1;33m(\u001b[0m\u001b[0mmodel2_results\u001b[0m\u001b[1;33m)\u001b[0m\u001b[1;33m\u001b[0m\u001b[1;33m\u001b[0m\u001b[0m\n\u001b[0m",
      "\u001b[1;32m~\\AppData\\Local\\Temp/ipykernel_16716/1862796308.py\u001b[0m in \u001b[0;36mget_sim_results_df\u001b[1;34m(results)\u001b[0m\n\u001b[0;32m      3\u001b[0m     \u001b[0mdfs\u001b[0m \u001b[1;33m=\u001b[0m \u001b[1;33m[\u001b[0m\u001b[1;33m]\u001b[0m\u001b[1;33m\u001b[0m\u001b[1;33m\u001b[0m\u001b[0m\n\u001b[0;32m      4\u001b[0m     \u001b[1;32mfor\u001b[0m \u001b[0mr\u001b[0m \u001b[1;32min\u001b[0m \u001b[0mresults\u001b[0m\u001b[1;33m:\u001b[0m\u001b[1;33m\u001b[0m\u001b[1;33m\u001b[0m\u001b[0m\n\u001b[1;32m----> 5\u001b[1;33m         \u001b[0mdf\u001b[0m \u001b[1;33m=\u001b[0m \u001b[0mpd\u001b[0m\u001b[1;33m.\u001b[0m\u001b[0mDataFrame\u001b[0m\u001b[1;33m(\u001b[0m\u001b[0mr\u001b[0m\u001b[1;33m[\u001b[0m\u001b[1;34m'output'\u001b[0m\u001b[1;33m]\u001b[0m\u001b[1;33m)\u001b[0m\u001b[1;33m\u001b[0m\u001b[1;33m\u001b[0m\u001b[0m\n\u001b[0m\u001b[0;32m      6\u001b[0m         \u001b[0mdf\u001b[0m\u001b[1;33m[\u001b[0m\u001b[1;34m'scenario_num'\u001b[0m\u001b[1;33m]\u001b[0m \u001b[1;33m=\u001b[0m \u001b[0mr\u001b[0m\u001b[1;33m[\u001b[0m\u001b[1;34m'scenario_num'\u001b[0m\u001b[1;33m]\u001b[0m\u001b[1;33m\u001b[0m\u001b[1;33m\u001b[0m\u001b[0m\n\u001b[0;32m      7\u001b[0m         \u001b[1;32mfor\u001b[0m \u001b[0mkey\u001b[0m\u001b[1;33m,\u001b[0m \u001b[0mval\u001b[0m \u001b[1;32min\u001b[0m \u001b[0mr\u001b[0m\u001b[1;33m[\u001b[0m\u001b[1;34m'scenario_vals'\u001b[0m\u001b[1;33m]\u001b[0m\u001b[1;33m.\u001b[0m\u001b[0mitems\u001b[0m\u001b[1;33m(\u001b[0m\u001b[1;33m)\u001b[0m\u001b[1;33m:\u001b[0m\u001b[1;33m\u001b[0m\u001b[1;33m\u001b[0m\u001b[0m\n",
      "\u001b[1;32m~\\anaconda3\\lib\\site-packages\\pandas\\core\\frame.py\u001b[0m in \u001b[0;36m__init__\u001b[1;34m(self, data, index, columns, dtype, copy)\u001b[0m\n\u001b[0;32m    612\u001b[0m         \u001b[1;32melif\u001b[0m \u001b[0misinstance\u001b[0m\u001b[1;33m(\u001b[0m\u001b[0mdata\u001b[0m\u001b[1;33m,\u001b[0m \u001b[0mdict\u001b[0m\u001b[1;33m)\u001b[0m\u001b[1;33m:\u001b[0m\u001b[1;33m\u001b[0m\u001b[1;33m\u001b[0m\u001b[0m\n\u001b[0;32m    613\u001b[0m             \u001b[1;31m# GH#38939 de facto copy defaults to False only in non-dict cases\u001b[0m\u001b[1;33m\u001b[0m\u001b[1;33m\u001b[0m\u001b[0m\n\u001b[1;32m--> 614\u001b[1;33m             \u001b[0mmgr\u001b[0m \u001b[1;33m=\u001b[0m \u001b[0mdict_to_mgr\u001b[0m\u001b[1;33m(\u001b[0m\u001b[0mdata\u001b[0m\u001b[1;33m,\u001b[0m \u001b[0mindex\u001b[0m\u001b[1;33m,\u001b[0m \u001b[0mcolumns\u001b[0m\u001b[1;33m,\u001b[0m \u001b[0mdtype\u001b[0m\u001b[1;33m=\u001b[0m\u001b[0mdtype\u001b[0m\u001b[1;33m,\u001b[0m \u001b[0mcopy\u001b[0m\u001b[1;33m=\u001b[0m\u001b[0mcopy\u001b[0m\u001b[1;33m,\u001b[0m \u001b[0mtyp\u001b[0m\u001b[1;33m=\u001b[0m\u001b[0mmanager\u001b[0m\u001b[1;33m)\u001b[0m\u001b[1;33m\u001b[0m\u001b[1;33m\u001b[0m\u001b[0m\n\u001b[0m\u001b[0;32m    615\u001b[0m         \u001b[1;32melif\u001b[0m \u001b[0misinstance\u001b[0m\u001b[1;33m(\u001b[0m\u001b[0mdata\u001b[0m\u001b[1;33m,\u001b[0m \u001b[0mma\u001b[0m\u001b[1;33m.\u001b[0m\u001b[0mMaskedArray\u001b[0m\u001b[1;33m)\u001b[0m\u001b[1;33m:\u001b[0m\u001b[1;33m\u001b[0m\u001b[1;33m\u001b[0m\u001b[0m\n\u001b[0;32m    616\u001b[0m             \u001b[1;32mimport\u001b[0m \u001b[0mnumpy\u001b[0m\u001b[1;33m.\u001b[0m\u001b[0mma\u001b[0m\u001b[1;33m.\u001b[0m\u001b[0mmrecords\u001b[0m \u001b[1;32mas\u001b[0m \u001b[0mmrecords\u001b[0m\u001b[1;33m\u001b[0m\u001b[1;33m\u001b[0m\u001b[0m\n",
      "\u001b[1;32m~\\anaconda3\\lib\\site-packages\\pandas\\core\\internals\\construction.py\u001b[0m in \u001b[0;36mdict_to_mgr\u001b[1;34m(data, index, columns, dtype, typ, copy)\u001b[0m\n\u001b[0;32m    462\u001b[0m         \u001b[1;31m# TODO: can we get rid of the dt64tz special case above?\u001b[0m\u001b[1;33m\u001b[0m\u001b[1;33m\u001b[0m\u001b[0m\n\u001b[0;32m    463\u001b[0m \u001b[1;33m\u001b[0m\u001b[0m\n\u001b[1;32m--> 464\u001b[1;33m     return arrays_to_mgr(\n\u001b[0m\u001b[0;32m    465\u001b[0m         \u001b[0marrays\u001b[0m\u001b[1;33m,\u001b[0m \u001b[0mdata_names\u001b[0m\u001b[1;33m,\u001b[0m \u001b[0mindex\u001b[0m\u001b[1;33m,\u001b[0m \u001b[0mcolumns\u001b[0m\u001b[1;33m,\u001b[0m \u001b[0mdtype\u001b[0m\u001b[1;33m=\u001b[0m\u001b[0mdtype\u001b[0m\u001b[1;33m,\u001b[0m \u001b[0mtyp\u001b[0m\u001b[1;33m=\u001b[0m\u001b[0mtyp\u001b[0m\u001b[1;33m,\u001b[0m \u001b[0mconsolidate\u001b[0m\u001b[1;33m=\u001b[0m\u001b[0mcopy\u001b[0m\u001b[1;33m\u001b[0m\u001b[1;33m\u001b[0m\u001b[0m\n\u001b[0;32m    466\u001b[0m     )\n",
      "\u001b[1;32m~\\anaconda3\\lib\\site-packages\\pandas\\core\\internals\\construction.py\u001b[0m in \u001b[0;36marrays_to_mgr\u001b[1;34m(arrays, arr_names, index, columns, dtype, verify_integrity, typ, consolidate)\u001b[0m\n\u001b[0;32m    117\u001b[0m         \u001b[1;31m# figure out the index, if necessary\u001b[0m\u001b[1;33m\u001b[0m\u001b[1;33m\u001b[0m\u001b[0m\n\u001b[0;32m    118\u001b[0m         \u001b[1;32mif\u001b[0m \u001b[0mindex\u001b[0m \u001b[1;32mis\u001b[0m \u001b[1;32mNone\u001b[0m\u001b[1;33m:\u001b[0m\u001b[1;33m\u001b[0m\u001b[1;33m\u001b[0m\u001b[0m\n\u001b[1;32m--> 119\u001b[1;33m             \u001b[0mindex\u001b[0m \u001b[1;33m=\u001b[0m \u001b[0m_extract_index\u001b[0m\u001b[1;33m(\u001b[0m\u001b[0marrays\u001b[0m\u001b[1;33m)\u001b[0m\u001b[1;33m\u001b[0m\u001b[1;33m\u001b[0m\u001b[0m\n\u001b[0m\u001b[0;32m    120\u001b[0m         \u001b[1;32melse\u001b[0m\u001b[1;33m:\u001b[0m\u001b[1;33m\u001b[0m\u001b[1;33m\u001b[0m\u001b[0m\n\u001b[0;32m    121\u001b[0m             \u001b[0mindex\u001b[0m \u001b[1;33m=\u001b[0m \u001b[0mensure_index\u001b[0m\u001b[1;33m(\u001b[0m\u001b[0mindex\u001b[0m\u001b[1;33m)\u001b[0m\u001b[1;33m\u001b[0m\u001b[1;33m\u001b[0m\u001b[0m\n",
      "\u001b[1;32m~\\anaconda3\\lib\\site-packages\\pandas\\core\\internals\\construction.py\u001b[0m in \u001b[0;36m_extract_index\u001b[1;34m(data)\u001b[0m\n\u001b[0;32m    623\u001b[0m \u001b[1;33m\u001b[0m\u001b[0m\n\u001b[0;32m    624\u001b[0m         \u001b[1;32mif\u001b[0m \u001b[1;32mnot\u001b[0m \u001b[0mindexes\u001b[0m \u001b[1;32mand\u001b[0m \u001b[1;32mnot\u001b[0m \u001b[0mraw_lengths\u001b[0m\u001b[1;33m:\u001b[0m\u001b[1;33m\u001b[0m\u001b[1;33m\u001b[0m\u001b[0m\n\u001b[1;32m--> 625\u001b[1;33m             \u001b[1;32mraise\u001b[0m \u001b[0mValueError\u001b[0m\u001b[1;33m(\u001b[0m\u001b[1;34m\"If using all scalar values, you must pass an index\"\u001b[0m\u001b[1;33m)\u001b[0m\u001b[1;33m\u001b[0m\u001b[1;33m\u001b[0m\u001b[0m\n\u001b[0m\u001b[0;32m    626\u001b[0m \u001b[1;33m\u001b[0m\u001b[0m\n\u001b[0;32m    627\u001b[0m         \u001b[1;32mif\u001b[0m \u001b[0mhave_series\u001b[0m\u001b[1;33m:\u001b[0m\u001b[1;33m\u001b[0m\u001b[1;33m\u001b[0m\u001b[0m\n",
      "\u001b[1;31mValueError\u001b[0m: If using all scalar values, you must pass an index"
     ]
    }
   ],
   "source": [
    "model2_results_df = get_sim_results_df(model2_results)"
   ]
  },
  {
   "cell_type": "markdown",
   "id": "cbb332b7",
   "metadata": {},
   "source": [
    "Although I was unable to create the dataframe to plot the results, based on our simulation it is a low probability that the profit will be negative between variable cost of 80-120"
   ]
  },
  {
   "cell_type": "code",
   "execution_count": null,
   "id": "cceca305",
   "metadata": {},
   "outputs": [],
   "source": []
  }
 ],
 "metadata": {
  "kernelspec": {
   "display_name": "Python 3 (ipykernel)",
   "language": "python",
   "name": "python3"
  },
  "language_info": {
   "codemirror_mode": {
    "name": "ipython",
    "version": 3
   },
   "file_extension": ".py",
   "mimetype": "text/x-python",
   "name": "python",
   "nbconvert_exporter": "python",
   "pygments_lexer": "ipython3",
   "version": "3.9.7"
  }
 },
 "nbformat": 4,
 "nbformat_minor": 5
}
